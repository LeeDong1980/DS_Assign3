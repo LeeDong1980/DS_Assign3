{
 "cells": [
  {
   "cell_type": "code",
   "execution_count": 64,
   "metadata": {},
   "outputs": [],
   "source": [
    "import numpy as np\n",
    "import random\n",
    "import time\n",
    "import sys\n",
    "from pyskiplist import SkipList"
   ]
  },
  {
   "cell_type": "code",
   "execution_count": 65,
   "metadata": {},
   "outputs": [
    {
     "data": {
      "text/plain": [
       "100000000"
      ]
     },
     "execution_count": 65,
     "metadata": {},
     "output_type": "execute_result"
    }
   ],
   "source": [
    "sys.setrecursionlimit(100000000)\n",
    "sys.getrecursionlimit()"
   ]
  },
  {
   "cell_type": "code",
   "execution_count": 66,
   "metadata": {},
   "outputs": [],
   "source": [
    "searchList=[]\n",
    "for i in range(1,10**5+1):\n",
    "    searchList.append(random.randint(1,10**7))"
   ]
  },
  {
   "cell_type": "code",
   "execution_count": 67,
   "metadata": {},
   "outputs": [
    {
     "data": {
      "text/plain": [
       "100000"
      ]
     },
     "execution_count": 67,
     "metadata": {},
     "output_type": "execute_result"
    }
   ],
   "source": [
    "len(searchList)"
   ]
  },
  {
   "cell_type": "markdown",
   "metadata": {},
   "source": [
    "# Splay tree"
   ]
  },
  {
   "cell_type": "code",
   "execution_count": 68,
   "metadata": {},
   "outputs": [],
   "source": [
    "\"\"\"Splay tree\n",
    "Logan Ingalls <log@plutor.org>\n",
    "Sept 3, 2012\n",
    "Note that I only implemented insert and find. Delete is trivial,\n",
    "and isn't the interesting part of splay trees. Some of these\n",
    "algorithms would be simpler, but I chose to do this without parent\n",
    "links from the tree nodes.\n",
    "Example output on my desktop computer:\n",
    "Building trees\n",
    "Done building\n",
    "Searched for 20 items 20000x in splay tree: 4.1 sec\n",
    "Searched for 20 items 20000x in binary tree: 11.1 sec\n",
    "\"\"\"\n",
    "\n",
    "from random import shuffle\n",
    "import time\n",
    "\n",
    "class BinaryTreeNode:\n",
    "    \"\"\"A node in a binary tree. Each node has a val attribute,\n",
    "    as well as left and right descendents. No parent links because\n",
    "    I'm a masochist.\"\"\"\n",
    "    def __init__(self, val):\n",
    "        self.val = val\n",
    "        self.left = None\n",
    "        self.right = None\n",
    "\n",
    "    def __str__(self):\n",
    "        return (\"node[%s]\" % self.val)\n",
    "\n",
    "class BinaryTree:\n",
    "    \"\"\"A basic binary tree.\"\"\"\n",
    "    def __init__(self):\n",
    "        self.root = None\n",
    "\n",
    "    def insert(self, val, parent=None):\n",
    "        \"\"\"Insert a new value in the tree. Takes one argument\n",
    "        (the value to insert). Recursive binary search.\"\"\"\n",
    "        if (parent == None):\n",
    "            parent = self.root\n",
    "        if (parent == None):\n",
    "            # root is null, make this the new root, done\n",
    "            self.root = BinaryTreeNode(val)\n",
    "            return\n",
    "        elif (val < parent.val):\n",
    "            if (parent.left == None):\n",
    "                # insert to the left of the parent\n",
    "                parent.left = BinaryTreeNode(val)\n",
    "                return\n",
    "            else:\n",
    "                # search under the left\n",
    "                self.insert(val, parent.left)\n",
    "        else:\n",
    "            if (parent.right == None):\n",
    "                # insert to the right of the parent\n",
    "                parent.right = BinaryTreeNode(val)\n",
    "                return\n",
    "            else:\n",
    "                # search under the right\n",
    "                self.insert(val, parent.right)\n",
    "\n",
    "    def find(self, val, node=None):\n",
    "        \"\"\"Find if a value is in the tree. Takes one argument\n",
    "        (the value to find). If the value is in the tree, returns\n",
    "        the node object. Otherwise returns None.\"\"\"\n",
    "        if (node == None):\n",
    "            node = self.root\n",
    "        if (node == None):\n",
    "            # obviously it's not in an empty tree\n",
    "            return None\n",
    "        elif (val == node.val):\n",
    "            return node\n",
    "        elif (val < node.val):\n",
    "            # Search left\n",
    "            if (node.left != None):\n",
    "                leftrv = self.find(val, node.left)\n",
    "                if leftrv != None:\n",
    "                    return leftrv\n",
    "        elif (val > node.val):\n",
    "            if (node.right != None):\n",
    "                rightrv = self.find(val, node.right)\n",
    "                if rightrv != None:\n",
    "                    return rightrv\n",
    "        return None\n",
    "\n",
    "class SplayTree(BinaryTree):\n",
    "    \"\"\"Implementation of a splay tree. Splay trees are self-organizing.\n",
    "    They look identical to binary trees, but when nodes are found, they\n",
    "    are moved towards the root (one or two levels closer). Still\n",
    "    O(lg n), but a shallower search on average when not all values are\n",
    "    searched for equally.\"\"\"\n",
    "    def find(self, val, node=None, p=None, g=None, gg=None):\n",
    "        \"\"\"Find if a value is in the tree. Takes one argument\n",
    "        (the value to find). If the value is in the tree, returns\n",
    "        the node object. Otherwise returns None.\"\"\"\n",
    "        if (node == None):\n",
    "            node = self.root\n",
    "        if (node == None):\n",
    "            # obviously it's not in an empty tree\n",
    "            return None\n",
    "        elif (val == node.val):\n",
    "            # If it's found, we need to move things around\n",
    "            if (p != None):\n",
    "                if (g == None):\n",
    "                    # Zig: swap node with its parent\n",
    "                    self.rotateup(node, p, g)\n",
    "                elif ((g.left == p and p.left == node) or\n",
    "                      (g.right == p and p.right == node)):\n",
    "                    # Zig-zig: swap parent with grandparent\n",
    "                    self.rotateup(p, g, gg)\n",
    "                    # Then swap node with parent\n",
    "                    self.rotateup(node, p, gg)\n",
    "                else:\n",
    "                    # Zig-zag: swap node with parent\n",
    "                    self.rotateup(node, p, g)\n",
    "                    # Then swap node with grandparent\n",
    "                    self.rotateup(node, g, gg)\n",
    "            return node\n",
    "        elif (val < node.val):\n",
    "            # Search left\n",
    "            if (node.left != None):\n",
    "                leftrv = self.find(val, node.left, node, p, g)\n",
    "                if leftrv != None:\n",
    "                    return leftrv\n",
    "        elif (val > node.val):\n",
    "            if (node.right != None):\n",
    "                rightrv = self.find(val, node.right, node, p, g)\n",
    "                if rightrv != None:\n",
    "                    return rightrv\n",
    "        return None\n",
    "\n",
    "    def rotateup(self, node, parent, gp=None):\n",
    "        \"\"\"Swap a node with its parent, keeping all child nodes\n",
    "        (and grandparent node) in order.\"\"\"\n",
    "        if node == parent.left: \n",
    "            parent.left = node.right\n",
    "            node.right = parent\n",
    "            if (self.root == parent):\n",
    "                self.root = node\n",
    "        elif node == parent.right:\n",
    "            parent.right = node.left\n",
    "            node.left = parent\n",
    "            if (self.root == parent):\n",
    "                self.root = node\n",
    "        else:\n",
    "            print(\"This is impossible\")\n",
    "\n",
    "        if (gp != None):\n",
    "            if (gp.right == parent):\n",
    "                gp.right = node\n",
    "            elif (gp.left == parent):\n",
    "                gp.left = node\n",
    "\n",
    "def test_splay_tree(treesize=100000, iters=20000):\n",
    "    \"\"\"Just a simple test harness to demonstrate the speed of\n",
    "    splay trees when a few items are searched for very frequently.\"\"\"\n",
    "    # Build a binary tree and a splay tree\n",
    "    print(\"Building trees\")\n",
    "    bintree = BinaryTree()\n",
    "    spltree = SplayTree()\n",
    "    x = [i for i in range(0, treesize)]\n",
    "    shuffle(x)\n",
    "    for n in x:\n",
    "        bintree.insert(n)\n",
    "        spltree.insert(n)\n",
    "    print(\"Done building\")\n",
    "    searches = x[-20:]\n",
    "\n",
    "    # Search the splay tree 1000 times\n",
    "    t1 = time.time()\n",
    "    for i in range(0, iters):\n",
    "        for n in searches:\n",
    "            node = spltree.find(n)\n",
    "            if (node == None):\n",
    "                print(\"ERROR: %d\" % n)\n",
    "    t2 = time.time()\n",
    "    print(\"Searched for 20 items %dx in splay tree: %.1f sec\" % (iters, t2-t1))\n",
    "\n",
    "    # Search the binary tree 1000 times\n",
    "    t1 = time.time()\n",
    "    for i in range(0, iters):\n",
    "        for n in searches:\n",
    "            node = bintree.find(n)\n",
    "            if (node == None):\n",
    "                print(\"ERROR: %d\" % n)\n",
    "    t2 = time.time()\n",
    "    print(\"Searched for 20 items %dx in binary tree: %.1f sec\" % (iters, t2-t1))"
   ]
  },
  {
   "cell_type": "code",
   "execution_count": 69,
   "metadata": {},
   "outputs": [],
   "source": [
    "st = SplayTree()"
   ]
  },
  {
   "cell_type": "code",
   "execution_count": 70,
   "metadata": {
    "scrolled": true
   },
   "outputs": [],
   "source": [
    "stPartDuration = []\n",
    "for i in range(0,10**4):\n",
    "    stStart = time.process_time()\n",
    "    for j in range(1000*i+1,1000*(i+1)+1):        \n",
    "        st.insert(random.randint(1,10**7))\n",
    "    stEnd = time.process_time()\n",
    "    stDuration = stEnd - stStart\n",
    "    stPartDuration.append(stDuration)  "
   ]
  },
  {
   "cell_type": "code",
   "execution_count": 71,
   "metadata": {},
   "outputs": [
    {
     "data": {
      "text/plain": [
       "3.578125"
      ]
     },
     "execution_count": 71,
     "metadata": {},
     "output_type": "execute_result"
    }
   ],
   "source": [
    "stSStart = time.process_time()\n",
    "for i in range(0,10**5):\n",
    "    st.find(searchList[i])\n",
    "stSEnd = time.process_time()\n",
    "stSDuration = stSEnd - stSStart\n",
    "stSDuration"
   ]
  },
  {
   "cell_type": "markdown",
   "metadata": {},
   "source": [
    "Splay tree source code:https://gist.github.com/Plutor/3615362"
   ]
  },
  {
   "cell_type": "markdown",
   "metadata": {},
   "source": [
    "# Skiplist"
   ]
  },
  {
   "cell_type": "code",
   "execution_count": 72,
   "metadata": {},
   "outputs": [],
   "source": [
    "s = SkipList()"
   ]
  },
  {
   "cell_type": "code",
   "execution_count": 73,
   "metadata": {},
   "outputs": [],
   "source": [
    "sPartDuration = []\n",
    "for i in range(0,10**4):\n",
    "    sStart = time.process_time()\n",
    "    for j in range(1000*i+1,1000*(i+1)+1):        \n",
    "        s.insert(j,random.randint(1,10**7))\n",
    "    sEnd = time.process_time()\n",
    "    sDuration = sEnd - sStart\n",
    "    sPartDuration.append(sDuration)   "
   ]
  },
  {
   "cell_type": "code",
   "execution_count": 74,
   "metadata": {},
   "outputs": [
    {
     "data": {
      "text/plain": [
       "2.875"
      ]
     },
     "execution_count": 74,
     "metadata": {},
     "output_type": "execute_result"
    }
   ],
   "source": [
    "sSStart = time.process_time()\n",
    "for i in range(0,10**5):\n",
    "    s.search(searchList[i])\n",
    "sSEnd = time.process_time()\n",
    "sSDuration = sSEnd - sSStart\n",
    "sSDuration"
   ]
  },
  {
   "cell_type": "code",
   "execution_count": null,
   "metadata": {
    "collapsed": true
   },
   "outputs": [],
   "source": []
  },
  {
   "cell_type": "markdown",
   "metadata": {},
   "source": [
    "# Red black tree"
   ]
  },
  {
   "cell_type": "code",
   "execution_count": 75,
   "metadata": {},
   "outputs": [],
   "source": [
    "class rbnode(object):\n",
    "    \"\"\"\n",
    "    A node in a red black tree. See Cormen, Leiserson, Rivest, Stein 2nd edition pg 273.\n",
    "    \"\"\"\n",
    "    \n",
    "    def __init__(self, key):\n",
    "        \"Construct.\"\n",
    "        self._key = key\n",
    "        self._red = False\n",
    "        self._left = None\n",
    "        self._right = None\n",
    "        self._p = None\n",
    "    \n",
    "    key = property(fget=lambda self: self._key, doc=\"The node's key\")\n",
    "    red = property(fget=lambda self: self._red, doc=\"Is the node red?\")\n",
    "    left = property(fget=lambda self: self._left, doc=\"The node's left child\")\n",
    "    right = property(fget=lambda self: self._right, doc=\"The node's right child\")\n",
    "    p = property(fget=lambda self: self._p, doc=\"The node's parent\")\n",
    "    \n",
    "    def __str__(self):\n",
    "        \"String representation.\"\n",
    "        return str(self.key)\n",
    "    \n",
    "\n",
    "    def __repr__(self):\n",
    "        \"String representation.\"\n",
    "        return str(self.key)\n",
    "\n",
    "class rbtree(object):\n",
    "    \"\"\"\n",
    "    A red black tree. See Cormen, Leiserson, Rivest, Stein 2nd edition pg 273.\n",
    "    \"\"\"\n",
    "    \n",
    "    \n",
    "    def __init__(self, create_node=rbnode):\n",
    "        \"Construct.\"\n",
    "        \n",
    "        self._nil = create_node(key=None)\n",
    "        \"Our nil node, used for all leaves.\"\n",
    "        \n",
    "        self._root = self.nil\n",
    "        \"The root of the tree.\"\n",
    "        \n",
    "        self._create_node = create_node\n",
    "        \"A callable that creates a node.\"\n",
    "\n",
    "\n",
    "    root = property(fget=lambda self: self._root, doc=\"The tree's root node\")\n",
    "    nil = property(fget=lambda self: self._nil, doc=\"The tree's nil node\")\n",
    "    \n",
    "    \n",
    "    def search(self, key, x=None):\n",
    "        \"\"\"\n",
    "        Search the subtree rooted at x (or the root if not given) iteratively for the key.\n",
    "        \n",
    "        @return: self.nil if it cannot find it.\n",
    "        \"\"\"\n",
    "        if None == x:\n",
    "            x = self.root\n",
    "        while x != self.nil and key != x.key:\n",
    "            if key < x.key:\n",
    "                x = x.left\n",
    "            else:\n",
    "                x = x.right\n",
    "        return x\n",
    "\n",
    "    \n",
    "    def minimum(self, x=None):\n",
    "        \"\"\"\n",
    "        @return: The minimum value in the subtree rooted at x.\n",
    "        \"\"\"\n",
    "        if None == x:\n",
    "            x = self.root\n",
    "        while x.left != self.nil:\n",
    "            x = x.left\n",
    "        return x\n",
    "\n",
    "    \n",
    "    def maximum(self, x=None):\n",
    "        \"\"\"\n",
    "        @return: The maximum value in the subtree rooted at x.\n",
    "        \"\"\"\n",
    "        if None == x:\n",
    "            x = self.root\n",
    "        while x.right != self.nil:\n",
    "            x = x.right\n",
    "        return x\n",
    "\n",
    "    \n",
    "    def insert_key(self, key):\n",
    "        \"Insert the key into the tree.\"\n",
    "        self.insert_node(self._create_node(key=key))\n",
    "    \n",
    "    \n",
    "    def insert_node(self, z):\n",
    "        \"Insert node z into the tree.\"\n",
    "        y = self.nil\n",
    "        x = self.root\n",
    "        while x != self.nil:\n",
    "            y = x\n",
    "            if z.key < x.key:\n",
    "                x = x.left\n",
    "            else:\n",
    "                x = x.right\n",
    "        z._p = y\n",
    "        if y == self.nil:\n",
    "            self._root = z\n",
    "        elif z.key < y.key:\n",
    "            y._left = z\n",
    "        else:\n",
    "            y._right = z\n",
    "        z._left = self.nil\n",
    "        z._right = self.nil\n",
    "        z._red = True\n",
    "        self._insert_fixup(z)\n",
    "        \n",
    "        \n",
    "    def _insert_fixup(self, z):\n",
    "        \"Restore red-black properties after insert.\"\n",
    "        while z.p.red:\n",
    "            if z.p == z.p.p.left:\n",
    "                y = z.p.p.right\n",
    "                if y.red:\n",
    "                    z.p._red = False\n",
    "                    y._red = False\n",
    "                    z.p.p._red = True\n",
    "                    z = z.p.p\n",
    "                else:\n",
    "                    if z == z.p.right:\n",
    "                        z = z.p\n",
    "                        self._left_rotate(z)\n",
    "                    z.p._red = False\n",
    "                    z.p.p._red = True\n",
    "                    self._right_rotate(z.p.p)\n",
    "            else:\n",
    "                y = z.p.p.left\n",
    "                if y.red:\n",
    "                    z.p._red = False\n",
    "                    y._red = False\n",
    "                    z.p.p._red = True\n",
    "                    z = z.p.p\n",
    "                else:\n",
    "                    if z == z.p.left:\n",
    "                        z = z.p\n",
    "                        self._right_rotate(z)\n",
    "                    z.p._red = False\n",
    "                    z.p.p._red = True\n",
    "                    self._left_rotate(z.p.p)\n",
    "        self.root._red = False\n",
    "\n",
    "    \n",
    "    def _left_rotate(self, x):\n",
    "        \"Left rotate x.\"\n",
    "        y = x.right\n",
    "        x._right = y.left\n",
    "        if y.left != self.nil:\n",
    "            y.left._p = x\n",
    "        y._p = x.p\n",
    "        if x.p == self.nil:\n",
    "            self._root = y\n",
    "        elif x == x.p.left:\n",
    "            x.p._left = y\n",
    "        else:\n",
    "            x.p._right = y\n",
    "        y._left = x\n",
    "        x._p = y\n",
    "\n",
    "\n",
    "    def _right_rotate(self, y):\n",
    "        \"Left rotate y.\"\n",
    "        x = y.left\n",
    "        y._left = x.right\n",
    "        if x.right != self.nil:\n",
    "            x.right._p = y\n",
    "        x._p = y.p\n",
    "        if y.p == self.nil:\n",
    "            self._root = x\n",
    "        elif y == y.p.right:\n",
    "            y.p._right = x\n",
    "        else:\n",
    "            y.p._left = x\n",
    "        x._right = y\n",
    "        y._p = x\n",
    "\n",
    "\n",
    "    def check_invariants(self):\n",
    "        \"@return: True iff satisfies all criteria to be red-black tree.\"\n",
    "        \n",
    "        def is_red_black_node(node):\n",
    "            \"@return: num_black\"\n",
    "            # check has _left and _right or neither\n",
    "            if (node.left and not node.right) or (node.right and not node.left):\n",
    "                return 0, False\n",
    "\n",
    "            # check leaves are black\n",
    "            if not node.left and not node.right and node.red:\n",
    "                return 0, False\n",
    "\n",
    "            # if node is red, check children are black\n",
    "            if node.red and node.left and node.right:\n",
    "                if node.left.red or node.right.red:\n",
    "                    return 0, False\n",
    "                    \n",
    "            # descend tree and check black counts are balanced\n",
    "            if node.left and node.right:\n",
    "                \n",
    "                # check children's parents are correct\n",
    "                if self.nil != node.left and node != node.left.p:\n",
    "                    return 0, False\n",
    "                if self.nil != node.right and node != node.right.p:\n",
    "                    return 0, False\n",
    "\n",
    "                # check children are ok\n",
    "                left_counts, left_ok = is_red_black_node(node.left)\n",
    "                if not left_ok:\n",
    "                    return 0, False\n",
    "                right_counts, right_ok = is_red_black_node(node.right)\n",
    "                if not right_ok:\n",
    "                    return 0, False\n",
    "\n",
    "                # check children's counts are ok\n",
    "                if left_counts != right_counts:\n",
    "                    return 0, False\n",
    "                return left_counts, True\n",
    "            else:\n",
    "                return 0, True\n",
    "                \n",
    "        num_black, is_ok = is_red_black_node(self.root)\n",
    "        return is_ok and not self.root._red\n",
    "                \n",
    "\n",
    "\n",
    "\n",
    "def write_tree_as_dot(t, f, show_nil=False):\n",
    "    \"Write the tree in the dot language format to f.\"\n",
    "    def node_id(node):\n",
    "        return 'N%d' % id(node)\n",
    "    \n",
    "    def node_color(node):\n",
    "        if node.red:\n",
    "            return \"red\"\n",
    "        else:\n",
    "            return \"black\"\n",
    "    \n",
    "    def visit_node(node):\n",
    "        \"Visit a node.\"\n",
    "        print(f, \"  %s [label=\\\"%s\\\", color=\\\"%s\\\"];\" % (node_id(node), node, node_color(node)))\n",
    "        if node.left:\n",
    "            if node.left != t.nil or show_nil:\n",
    "                visit_node(node.left)\n",
    "                print(f, \"  %s -> %s ;\" % (node_id(node), node_id(node.left)))\n",
    "        if node.right:\n",
    "            if node.right != t.nil or show_nil:\n",
    "                visit_node(node.right)\n",
    "                print(f, \"  %s -> %s ;\" % (node_id(node), node_id(node.right)))\n",
    "             \n",
    "    print(f, \"// Created by rbtree.write_dot()\")\n",
    "    print(f, \"digraph red_black_tree {\")\n",
    "    visit_node(t.root)\n",
    "    print(f, \"}\")\n",
    "\n",
    "\n",
    "\n",
    "\n",
    "def test_tree(t, keys):\n",
    "    \"Insert keys one by one checking invariants and membership as we go.\"\n",
    "    assert t.check_invariants()\n",
    "    for i, key in enumerate(keys):\n",
    "        for key2 in keys[:i]:\n",
    "            assert t.nil != t.search(key2)\n",
    "        for key2 in keys[i:]:\n",
    "            assert (t.nil == t.search(key2)) ^ (key2 in keys[:i])\n",
    "        t.insert_key(key)\n",
    "        assert t.check_invariants()\n",
    "    \n",
    "\n",
    "if '__main__' == __name__:\n",
    "    import os, sys, numpy.random as R\n",
    "    def write_tree(t, filename):\n",
    "        \"Write the tree as an SVG file.\"\n",
    "        f = open('%s.dot' % filename, 'w')\n",
    "        write_tree_as_dot(t, f)\n",
    "        f.close()\n",
    "        os.system('dot %s.dot -Tsvg -o %s.svg' % (filename, filename))\n",
    "        "
   ]
  },
  {
   "cell_type": "markdown",
   "metadata": {},
   "source": [
    "Red black tree source code:(http://code.activestate.com/recipes/576817-red-black-tree/)"
   ]
  },
  {
   "cell_type": "code",
   "execution_count": 76,
   "metadata": {},
   "outputs": [],
   "source": [
    "rb = rbtree()"
   ]
  },
  {
   "cell_type": "code",
   "execution_count": 77,
   "metadata": {},
   "outputs": [],
   "source": [
    "rbPartDuration = []\n",
    "for i in range(0,10**4):\n",
    "    rbStart = time.process_time()\n",
    "    for j in range(1000*i+1,1000*(i+1)+1):        \n",
    "        rb.insert_key(random.randint(1,10**7))\n",
    "    rbEnd = time.process_time()\n",
    "    rbDuration = rbEnd - rbStart\n",
    "    rbPartDuration.append(rbDuration)"
   ]
  },
  {
   "cell_type": "code",
   "execution_count": 78,
   "metadata": {},
   "outputs": [
    {
     "data": {
      "text/plain": [
       "2.8125"
      ]
     },
     "execution_count": 78,
     "metadata": {},
     "output_type": "execute_result"
    }
   ],
   "source": [
    "rbSStart = time.process_time()\n",
    "for i in range(0,10**5):\n",
    "    rb.search(searchList[i])\n",
    "rbSEnd = time.process_time()\n",
    "rbSDuration = rbSEnd - rbSStart\n",
    "rbSDuration"
   ]
  },
  {
   "cell_type": "markdown",
   "metadata": {},
   "source": [
    "# Hash table"
   ]
  },
  {
   "cell_type": "code",
   "execution_count": 79,
   "metadata": {},
   "outputs": [],
   "source": [
    "ht = {}\n",
    "htPartDuration = []"
   ]
  },
  {
   "cell_type": "code",
   "execution_count": 80,
   "metadata": {},
   "outputs": [
    {
     "data": {
      "text/plain": [
       "54.46875"
      ]
     },
     "execution_count": 80,
     "metadata": {},
     "output_type": "execute_result"
    }
   ],
   "source": [
    "for i in range(0,10**4):\n",
    "    htStart = time.process_time()\n",
    "    for j in range(1000*i+1,1000*(i+1)+1):\n",
    "        ht[random.randint(1,10**7)] = random.randint(1,10**7)\n",
    "    htEnd = time.process_time()\n",
    "    htDuration = htEnd - htStart\n",
    "    htPartDuration.append(htDuration)\n",
    "timesum = sum(htPartDuration)\n",
    "timesum"
   ]
  },
  {
   "cell_type": "code",
   "execution_count": 81,
   "metadata": {},
   "outputs": [
    {
     "data": {
      "text/plain": [
       "0.046875"
      ]
     },
     "execution_count": 81,
     "metadata": {},
     "output_type": "execute_result"
    }
   ],
   "source": [
    "htSStart = time.process_time()\n",
    "for i in range(0,10**5):\n",
    "    searchList[i] in ht\n",
    "htSEnd = time.process_time()\n",
    "htSDuration = htSEnd - htSStart\n",
    "htSDuration"
   ]
  },
  {
   "cell_type": "code",
   "execution_count": null,
   "metadata": {},
   "outputs": [],
   "source": []
  },
  {
   "cell_type": "code",
   "execution_count": 82,
   "metadata": {},
   "outputs": [],
   "source": [
    "%matplotlib inline\n",
    "import matplotlib.pyplot as plt"
   ]
  },
  {
   "cell_type": "code",
   "execution_count": 83,
   "metadata": {},
   "outputs": [
    {
     "name": "stdout",
     "output_type": "stream",
     "text": [
      "330.84375 321.3125 482.859375 54.46875\n",
      "3.578125 2.875 2.8125 0.046875\n"
     ]
    }
   ],
   "source": [
    "stSumDuration = sum(stPartDuration)\n",
    "sSumDuration = sum(sPartDuration)\n",
    "rbSumDuration = sum(rbPartDuration)\n",
    "htSumDuration = sum(htPartDuration)\n",
    "print(stSumDuration,sSumDuration,rbSumDuration,htSumDuration)\n",
    "print(stSDuration,sSDuration,rbSDuration,htSDuration)"
   ]
  },
  {
   "cell_type": "code",
   "execution_count": 85,
   "metadata": {},
   "outputs": [],
   "source": [
    "insertTime = [stSumDuration,sSumDuration,rbSumDuration,htSumDuration]\n",
    "searchTime = [stSDuration,sSDuration,rbSDuration,htSDuration]"
   ]
  },
  {
   "cell_type": "code",
   "execution_count": null,
   "metadata": {},
   "outputs": [],
   "source": []
  },
  {
   "cell_type": "markdown",
   "metadata": {},
   "source": [
    "# 新增時間"
   ]
  },
  {
   "cell_type": "code",
   "execution_count": 86,
   "metadata": {},
   "outputs": [
    {
     "data": {
      "text/plain": [
       "[<matplotlib.lines.Line2D at 0x222a2a8fa08>]"
      ]
     },
     "execution_count": 86,
     "metadata": {},
     "output_type": "execute_result"
    },
    {
     "data": {
      "image/png": "[encoded data removed]",
      "text/plain": [
       "<Figure size 432x288 with 1 Axes>"
      ]
     },
     "metadata": {
      "needs_background": "light"
     },
     "output_type": "display_data"
    }
   ],
   "source": [
    "#每千次\n",
    "plt.xlabel(\"times\")\n",
    "plt.ylabel(\"seconds\")\n",
    "plt.plot(stPartDuration,'b') #Splay tree"
   ]
  },
  {
   "cell_type": "code",
   "execution_count": 113,
   "metadata": {},
   "outputs": [
    {
     "data": {
      "text/plain": [
       "[<matplotlib.lines.Line2D at 0x18f9b589a90>]"
      ]
     },
     "execution_count": 113,
     "metadata": {},
     "output_type": "execute_result"
    },
    {
     "data": {
      "image/png": "[encoded data removed]",
      "text/plain": [
       "<Figure size 432x288 with 1 Axes>"
      ]
     },
     "metadata": {},
     "output_type": "display_data"
    }
   ],
   "source": [
    "plt.xlabel(\"times\")\n",
    "plt.ylabel(\"seconds\")\n",
    "plt.plot(sPartDuration,'g') #Skiplist"
   ]
  },
  {
   "cell_type": "code",
   "execution_count": 88,
   "metadata": {},
   "outputs": [
    {
     "data": {
      "text/plain": [
       "[<matplotlib.lines.Line2D at 0x222c740d1c8>]"
      ]
     },
     "execution_count": 88,
     "metadata": {},
     "output_type": "execute_result"
    },
    {
     "data": {
      "image/png": "[encoded data removed]",
      "text/plain": [
       "<Figure size 432x288 with 1 Axes>"
      ]
     },
     "metadata": {
      "needs_background": "light"
     },
     "output_type": "display_data"
    }
   ],
   "source": [
    "plt.xlabel(\"times\")\n",
    "plt.ylabel(\"seconds\")\n",
    "plt.plot(rbPartDuration,'r') #Red black tree"
   ]
  },
  {
   "cell_type": "code",
   "execution_count": 89,
   "metadata": {},
   "outputs": [
    {
     "data": {
      "text/plain": [
       "[<matplotlib.lines.Line2D at 0x222c747db08>]"
      ]
     },
     "execution_count": 89,
     "metadata": {},
     "output_type": "execute_result"
    },
    {
     "data": {
      "image/png": "[encoded data removed]",
      "text/plain": [
       "<Figure size 432x288 with 1 Axes>"
      ]
     },
     "metadata": {
      "needs_background": "light"
     },
     "output_type": "display_data"
    }
   ],
   "source": [
    "plt.xlabel(\"times\")\n",
    "plt.ylabel(\"seconds\")\n",
    "plt.plot(htPartDuration,'y') #Hash table"
   ]
  },
  {
   "cell_type": "code",
   "execution_count": 90,
   "metadata": {},
   "outputs": [
    {
     "data": {
      "text/plain": [
       "[<matplotlib.lines.Line2D at 0x222c74eee08>]"
      ]
     },
     "execution_count": 90,
     "metadata": {},
     "output_type": "execute_result"
    },
    {
     "data": {
      "image/png": "[encoded data removed]",
      "text/plain": [
       "<Figure size 432x288 with 1 Axes>"
      ]
     },
     "metadata": {
      "needs_background": "light"
     },
     "output_type": "display_data"
    }
   ],
   "source": [
    "#總長度\n",
    "plt.xlabel(\"Treap/Skiplist/Rbtree/HashTable\")\n",
    "plt.ylabel(\"seconds\")\n",
    "plt.plot(insertTime,'ko-')"
   ]
  },
  {
   "cell_type": "markdown",
   "metadata": {},
   "source": [
    "# 搜尋時間"
   ]
  },
  {
   "cell_type": "code",
   "execution_count": 91,
   "metadata": {},
   "outputs": [
    {
     "data": {
      "text/plain": [
       "[<matplotlib.lines.Line2D at 0x222c7554748>]"
      ]
     },
     "execution_count": 91,
     "metadata": {},
     "output_type": "execute_result"
    },
    {
     "data": {
      "image/png": "[encoded data removed]",
      "text/plain": [
       "<Figure size 432x288 with 1 Axes>"
      ]
     },
     "metadata": {
      "needs_background": "light"
     },
     "output_type": "display_data"
    }
   ],
   "source": [
    "plt.xlabel(\"Treap/Skiplist/Rbtree/HashTable\")\n",
    "plt.ylabel(\"seconds\")\n",
    "plt.plot(searchTime,'bo-')"
   ]
  },
  {
   "cell_type": "code",
   "execution_count": null,
   "metadata": {
    "collapsed": true
   },
   "outputs": [],
   "source": []
  }
 ],
 "metadata": {
  "kernelspec": {
   "display_name": "Python 3",
   "language": "python",
   "name": "python3"
  },
  "language_info": {
   "codemirror_mode": {
    "name": "ipython",
    "version": 3
   },
   "file_extension": ".py",
   "mimetype": "text/x-python",
   "name": "python",
   "nbconvert_exporter": "python",
   "pygments_lexer": "ipython3",
   "version": "3.7.4"
  }
 },
 "nbformat": 4,
 "nbformat_minor": 2
}
